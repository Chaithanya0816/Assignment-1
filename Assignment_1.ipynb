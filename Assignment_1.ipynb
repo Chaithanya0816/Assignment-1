{
 "cells": [
  {
   "cell_type": "markdown",
   "id": "da5c010e",
   "metadata": {},
   "source": [
    "# Question 1"
   ]
  },
  {
   "cell_type": "code",
   "execution_count": 1,
   "id": "fd0f13d2",
   "metadata": {},
   "outputs": [],
   "source": [
    "ages = [19, 22, 19, 24, 20, 25, 26, 24, 25, 24]"
   ]
  },
  {
   "cell_type": "code",
   "execution_count": 2,
   "id": "38c156b7",
   "metadata": {},
   "outputs": [
    {
     "name": "stdout",
     "output_type": "stream",
     "text": [
      "Minimum Age :  19\n",
      "Maximum Age :  26\n"
     ]
    }
   ],
   "source": [
    "ages.sort()\n",
    "print(\"Minimum Age : \",ages[0])\n",
    "print(\"Maximum Age : \",ages[-1])"
   ]
  },
  {
   "cell_type": "code",
   "execution_count": 3,
   "id": "92e7598d",
   "metadata": {},
   "outputs": [],
   "source": [
    "ages.insert(0,ages[0])\n",
    "ages.append(ages[-1])"
   ]
  },
  {
   "cell_type": "code",
   "execution_count": 4,
   "id": "68b66fa6",
   "metadata": {},
   "outputs": [
    {
     "name": "stdout",
     "output_type": "stream",
     "text": [
      "Median of Ages :  24.0\n"
     ]
    }
   ],
   "source": [
    "if len(ages)%2 == 0:\n",
    "    mid1 = len(ages)//2\n",
    "    mid2 = mid1+1\n",
    "    \n",
    "    median = (ages[mid1] + ages[mid2]) / 2\n",
    "else :\n",
    "    mid = len(ages) //2 + 1\n",
    "    median = ages[mid]\n",
    "    \n",
    "print(\"Median of Ages : \",median)"
   ]
  },
  {
   "cell_type": "code",
   "execution_count": 5,
   "id": "4795a1be",
   "metadata": {},
   "outputs": [
    {
     "name": "stdout",
     "output_type": "stream",
     "text": [
      "Average of Ages :  12\n"
     ]
    }
   ],
   "source": [
    "total_sum = 0\n",
    "for num in ages:\n",
    "    total_sum += num\n",
    "print(\"Average of Ages : \",len(ages))"
   ]
  },
  {
   "cell_type": "code",
   "execution_count": 6,
   "id": "71b3d1cf",
   "metadata": {},
   "outputs": [
    {
     "name": "stdout",
     "output_type": "stream",
     "text": [
      "Range of Ages :  7\n"
     ]
    }
   ],
   "source": [
    "range_ = ages[-1] - ages[0]\n",
    "print(\"Range of Ages : \", range_)"
   ]
  },
  {
   "cell_type": "markdown",
   "id": "d6604b04",
   "metadata": {},
   "source": [
    "# Question 2"
   ]
  },
  {
   "cell_type": "code",
   "execution_count": 7,
   "id": "d1d0ef5f",
   "metadata": {},
   "outputs": [],
   "source": [
    "#Create an empty dictionary called dog\n",
    "dog = {}"
   ]
  },
  {
   "cell_type": "code",
   "execution_count": 8,
   "id": "9a4c6db4",
   "metadata": {},
   "outputs": [],
   "source": [
    "# Add name, color, breed, legs, age to the dog dictionary\n",
    "dog = {\"name\":[], \"color\":[], \"breed\":[], \"legs\":[], \"age\": []}"
   ]
  },
  {
   "cell_type": "code",
   "execution_count": 9,
   "id": "fc0b4b33",
   "metadata": {},
   "outputs": [],
   "source": [
    "#Create a student dictionary and add first_name, last_name, gender, age, marital status,\n",
    "#skills, country, city and address as keys for the dictionary\n",
    "\n",
    "student = {\"first_name\":[], \"last_name\":[], \"gender\":[], \"age\":[], \"marital status\":[], \"skills\":[], \"country\":[], \"city\":[],\"address\":[] }"
   ]
  },
  {
   "cell_type": "code",
   "execution_count": 10,
   "id": "8188271a",
   "metadata": {},
   "outputs": [
    {
     "name": "stdout",
     "output_type": "stream",
     "text": [
      "Lenght of Student Dictionary :  9\n"
     ]
    }
   ],
   "source": [
    "# Get the length of the student dictionary\n",
    "print(\"Lenght of Student Dictionary : \",len(student))"
   ]
  },
  {
   "cell_type": "code",
   "execution_count": 11,
   "id": "a4a347b1",
   "metadata": {},
   "outputs": [
    {
     "name": "stdout",
     "output_type": "stream",
     "text": [
      "Content of skils :  []\n",
      "Type of skills :  <class 'list'>\n"
     ]
    }
   ],
   "source": [
    "# Get the value of skills and check the data type, it should be a list\n",
    "\n",
    "print(\"Content of skils : \",student[\"skills\"])\n",
    "print(\"Type of skills : \",type(student[\"skills\"]))"
   ]
  },
  {
   "cell_type": "code",
   "execution_count": 12,
   "id": "73f4833d",
   "metadata": {},
   "outputs": [],
   "source": [
    "# Modify the skills values by adding one or two skills\n",
    "student[\"skills\"] = [\"Dance\",\"Singing\",\"Athelete\"]"
   ]
  },
  {
   "cell_type": "code",
   "execution_count": 13,
   "id": "0d2ae665",
   "metadata": {},
   "outputs": [
    {
     "name": "stdout",
     "output_type": "stream",
     "text": [
      "Keys of Dictionary :  ['first_name', 'last_name', 'gender', 'age', 'marital status', 'skills', 'country', 'city', 'address']\n"
     ]
    }
   ],
   "source": [
    "# Get the dictionary keys as a list\n",
    "print(\"Keys of Dictionary : \",list(student.keys()))"
   ]
  },
  {
   "cell_type": "code",
   "execution_count": 14,
   "id": "78df60ac",
   "metadata": {},
   "outputs": [
    {
     "name": "stdout",
     "output_type": "stream",
     "text": [
      "Values of Dictionary :  [[], [], [], [], [], ['Dance', 'Singing', 'Athelete'], [], [], []]\n"
     ]
    }
   ],
   "source": [
    "# Get the dictionary values as a list\n",
    "print(\"Values of Dictionary : \",list(student.values()))"
   ]
  },
  {
   "cell_type": "code",
   "execution_count": 15,
   "id": "2ccc1dcf",
   "metadata": {
    "scrolled": true
   },
   "outputs": [
    {
     "name": "stdout",
     "output_type": "stream",
     "text": [
      "{'first_name': [], 'last_name': [], 'gender': [], 'age': [], 'marital status': [], 'skills': ['Dance', 'Singing', 'Athelete'], 'country': [], 'city': [], 'address': []}\n"
     ]
    }
   ],
   "source": [
    "print(student)"
   ]
  },
  {
   "cell_type": "markdown",
   "id": "d28aa4be",
   "metadata": {},
   "source": [
    "# Question 3"
   ]
  },
  {
   "cell_type": "code",
   "execution_count": 16,
   "id": "5be9914d",
   "metadata": {},
   "outputs": [],
   "source": [
    "#Create a tuple containing names of your sisters and your brothers (imaginary siblings are fine)\n",
    "brothers = (\"Ram\",\"Mark\")\n",
    "sister = (\"Merry\",\"Rina\")\n",
    "\n",
    "# Join brothers and sisters tuples and assign it to siblings\n",
    "siblings = brothers + sister"
   ]
  },
  {
   "cell_type": "code",
   "execution_count": 17,
   "id": "a857436c",
   "metadata": {},
   "outputs": [
    {
     "name": "stdout",
     "output_type": "stream",
     "text": [
      "No. of Siblings :  4\n"
     ]
    }
   ],
   "source": [
    "# How many siblings do you have?\n",
    "print(\"No. of Siblings : \",len(siblings))"
   ]
  },
  {
   "cell_type": "code",
   "execution_count": 18,
   "id": "7d60eecd",
   "metadata": {},
   "outputs": [],
   "source": [
    "#Modify the siblings tuple and add the name of your father and mother and assign it to family_members\n",
    "father_mother = (\"Ravi\",\"Amma\")\n",
    "siblings = siblings + father_mother\n",
    "\n",
    "family_members = siblings"
   ]
  },
  {
   "cell_type": "code",
   "execution_count": 19,
   "id": "7b454110",
   "metadata": {},
   "outputs": [
    {
     "data": {
      "text/plain": [
       "('Ram', 'Mark', 'Merry', 'Rina', 'Ravi', 'Amma')"
      ]
     },
     "execution_count": 19,
     "metadata": {},
     "output_type": "execute_result"
    }
   ],
   "source": [
    "family_members"
   ]
  },
  {
   "cell_type": "markdown",
   "id": "7a0f614d",
   "metadata": {},
   "source": [
    "# Question 4"
   ]
  },
  {
   "cell_type": "code",
   "execution_count": 20,
   "id": "1f7ca73c",
   "metadata": {},
   "outputs": [],
   "source": [
    "it_companies = {'Facebook', 'Google', 'Microsoft', 'Apple', 'IBM', 'Oracle', 'Amazon'}\n",
    "A = {19, 22, 24, 20, 25, 26}\n",
    "B = {19, 22, 20, 25, 26, 24, 28, 27}\n",
    "age = [22, 19, 24, 25, 26, 24, 25, 24]"
   ]
  },
  {
   "cell_type": "code",
   "execution_count": 21,
   "id": "699d1fc3",
   "metadata": {},
   "outputs": [
    {
     "name": "stdout",
     "output_type": "stream",
     "text": [
      "Length of IT Companies :  7\n",
      "{'Cognizant', 'IBM', 'Twitter', 'Oracle', 'Apple', 'TCS', 'Microsoft', 'Amazon', 'Facebook', 'Google'}\n"
     ]
    }
   ],
   "source": [
    "#Find the length of the set it_companies\n",
    "print(\"Length of IT Companies : \",len(it_companies))\n",
    "\n",
    "# Add 'Twitter' to it_companies\n",
    "it_companies.add(\"Twitter\")\n",
    "\n",
    "# Insert multiple IT companies at once to the set it_companies\n",
    "multiple_it = {\"TCS\",\"Cognizant\"}\n",
    "it_companies.update(multiple_it)\n",
    "\n",
    "print(it_companies)\n",
    "\n",
    "#Remove one of the companies from the set it_companies\n",
    "it_companies.remove(\"Facebook\")"
   ]
  },
  {
   "cell_type": "code",
   "execution_count": 22,
   "id": "a0cb679c",
   "metadata": {},
   "outputs": [
    {
     "ename": "KeyError",
     "evalue": "'Facebook'",
     "output_type": "error",
     "traceback": [
      "\u001b[1;31m---------------------------------------------------------------------------\u001b[0m",
      "\u001b[1;31mKeyError\u001b[0m                                  Traceback (most recent call last)",
      "Input \u001b[1;32mIn [22]\u001b[0m, in \u001b[0;36m<cell line: 3>\u001b[1;34m()\u001b[0m\n\u001b[0;32m      1\u001b[0m \u001b[38;5;66;03m# What is the difference between remove and discard\u001b[39;00m\n\u001b[0;32m      2\u001b[0m \u001b[38;5;66;03m#The discard() method removes the specified item from the set. This method is different from the remove() method, because the remove() method will raise an error if the specified item does not exist, and the discard() method will not.\u001b[39;00m\n\u001b[1;32m----> 3\u001b[0m \u001b[43mit_companies\u001b[49m\u001b[38;5;241;43m.\u001b[39;49m\u001b[43mremove\u001b[49m\u001b[43m(\u001b[49m\u001b[38;5;124;43m\"\u001b[39;49m\u001b[38;5;124;43mFacebook\u001b[39;49m\u001b[38;5;124;43m\"\u001b[39;49m\u001b[43m)\u001b[49m\n",
      "\u001b[1;31mKeyError\u001b[0m: 'Facebook'"
     ]
    }
   ],
   "source": [
    "# What is the difference between remove and discard\n",
    "#The discard() method removes the specified item from the set. This method is different from the remove() method, because the remove() method will raise an error if the specified item does not exist, and the discard() method will not.\n",
    "it_companies.remove(\"Facebook\")"
   ]
  },
  {
   "cell_type": "code",
   "execution_count": 23,
   "id": "3b246400",
   "metadata": {},
   "outputs": [],
   "source": [
    "it_companies.discard(\"Facebook\")"
   ]
  },
  {
   "cell_type": "code",
   "execution_count": 24,
   "id": "f2f445c6",
   "metadata": {},
   "outputs": [
    {
     "name": "stdout",
     "output_type": "stream",
     "text": [
      "{19, 20, 22, 24, 25, 26, 27, 28}\n"
     ]
    }
   ],
   "source": [
    "# Join A and B\n",
    "C = A.union(B)\n",
    "print(C)"
   ]
  },
  {
   "cell_type": "code",
   "execution_count": 25,
   "id": "01c34c06",
   "metadata": {},
   "outputs": [
    {
     "name": "stdout",
     "output_type": "stream",
     "text": [
      "{19, 20, 22, 24, 25, 26}\n"
     ]
    }
   ],
   "source": [
    "# Find A intersection B\n",
    "D = A.intersection(B)\n",
    "print(D)"
   ]
  },
  {
   "cell_type": "code",
   "execution_count": 26,
   "id": "7f9ed264",
   "metadata": {},
   "outputs": [
    {
     "name": "stdout",
     "output_type": "stream",
     "text": [
      "True\n"
     ]
    }
   ],
   "source": [
    "# Is A subset of B\n",
    "print(A.issubset(B))"
   ]
  },
  {
   "cell_type": "code",
   "execution_count": 27,
   "id": "407905d7",
   "metadata": {},
   "outputs": [
    {
     "name": "stdout",
     "output_type": "stream",
     "text": [
      "False\n"
     ]
    }
   ],
   "source": [
    "# Are A and B disjoint sets \n",
    "print(A.isdisjoint(B))"
   ]
  },
  {
   "cell_type": "code",
   "execution_count": 28,
   "id": "f9055123",
   "metadata": {},
   "outputs": [],
   "source": [
    "# Join A with B and B with A \n",
    "A_B = A.update(B)\n",
    "B_A = B.update(A)"
   ]
  },
  {
   "cell_type": "code",
   "execution_count": 29,
   "id": "f6a13751",
   "metadata": {},
   "outputs": [
    {
     "name": "stdout",
     "output_type": "stream",
     "text": [
      "set()\n"
     ]
    }
   ],
   "source": [
    "# What is the symmetric difference between A and B\n",
    "print(A.symmetric_difference(B))"
   ]
  },
  {
   "cell_type": "code",
   "execution_count": 30,
   "id": "b2dfafb9",
   "metadata": {},
   "outputs": [],
   "source": [
    "# Delete the sets completely \n",
    "del A, B , it_companies"
   ]
  },
  {
   "cell_type": "code",
   "execution_count": 31,
   "id": "52031105",
   "metadata": {},
   "outputs": [
    {
     "name": "stdout",
     "output_type": "stream",
     "text": [
      "Difference in Length :  6\n"
     ]
    }
   ],
   "source": [
    "# Convert the ages to a set and compare the length of the list and the set.\n",
    "ages_set = set(ages)\n",
    "print(\"Difference in Length : \",len(ages)-len(ages_set))"
   ]
  },
  {
   "cell_type": "markdown",
   "id": "9377c104",
   "metadata": {},
   "source": [
    "# Question 5 "
   ]
  },
  {
   "cell_type": "code",
   "execution_count": 32,
   "id": "b7dd3fd8",
   "metadata": {},
   "outputs": [
    {
     "name": "stdout",
     "output_type": "stream",
     "text": [
      "Area Of Circle :  2826.0\n",
      "Circum Of Circle :  188.4\n",
      "ENter the value of pi : 5.2\n",
      "Area Of Circle :  4680.0\n"
     ]
    }
   ],
   "source": [
    "# The radius of a circle is 30 meters.\n",
    "radius = 30\n",
    "pi = 3.14\n",
    "\n",
    "#Calculate the area of a circle and assign the value to a variable name of _area_of_circle_ \n",
    "_area_of_circle_ = pi * radius * radius\n",
    "print(\"Area Of Circle : \",_area_of_circle_)\n",
    "\n",
    "# Calculate the circumference of a circle and assign the value to a variable name of _circum_of_circle_\n",
    "_circum_of_circle_ = 2 * pi * radius\n",
    "print(\"Circum Of Circle : \",_circum_of_circle_)\n",
    "\n",
    "# Take radius as user input and calculate the area.\n",
    "pi = float(input(\"ENter the value of pi : \"))\n",
    "_area_of_circle_ = pi * radius * radius\n",
    "print(\"Area Of Circle : \",_area_of_circle_)"
   ]
  },
  {
   "cell_type": "markdown",
   "id": "bc63d034",
   "metadata": {},
   "source": [
    "# Question 6"
   ]
  },
  {
   "cell_type": "code",
   "execution_count": 33,
   "id": "57022367",
   "metadata": {
    "scrolled": true
   },
   "outputs": [
    {
     "name": "stdout",
     "output_type": "stream",
     "text": [
      "Length of unique words :  10\n"
     ]
    }
   ],
   "source": [
    "sentence = \"I am a teacher and I love to inspire and teach people\"\n",
    "print(\"Length of unique words : \",len(set(sentence.split(\" \"))))\n"
   ]
  },
  {
   "cell_type": "markdown",
   "id": "0787fd8d",
   "metadata": {},
   "source": [
    "# Question 7"
   ]
  },
  {
   "cell_type": "code",
   "execution_count": 34,
   "id": "4731ea6e",
   "metadata": {},
   "outputs": [
    {
     "name": "stdout",
     "output_type": "stream",
     "text": [
      "Name \t\t Age \t Country \t City\n",
      "Asabeneh \t 250 \t Finland \t Helsinki\n"
     ]
    }
   ],
   "source": [
    "print(\"Name \\t\\t Age \\t Country \\t City\")\n",
    "print(\"Asabeneh \\t 250 \\t Finland \\t Helsinki\")"
   ]
  },
  {
   "cell_type": "markdown",
   "id": "84d844e2",
   "metadata": {},
   "source": [
    "# Question 8"
   ]
  },
  {
   "cell_type": "code",
   "execution_count": 35,
   "id": "adfb1a25",
   "metadata": {},
   "outputs": [
    {
     "name": "stdout",
     "output_type": "stream",
     "text": [
      "Area : 314.00\n",
      "The area of a circle with radius 10 is 314 meters square\n"
     ]
    }
   ],
   "source": [
    "radius = 10\n",
    "area = 3.14 * radius ** 2\n",
    "\n",
    "print(\"Area : {:.2f}\".format(area))\n",
    "print(\"The area of a circle with radius {} is {} meters square\".format(radius,int(area)))"
   ]
  },
  {
   "cell_type": "markdown",
   "id": "929059d6",
   "metadata": {},
   "source": [
    "# Question 9"
   ]
  },
  {
   "cell_type": "code",
   "execution_count": 36,
   "id": "15535353",
   "metadata": {},
   "outputs": [
    {
     "name": "stdout",
     "output_type": "stream",
     "text": [
      "Enter Number of Students : 2\n",
      "Weight of Student 1 (in lbs) : 136\n",
      "Weight of Student 2 (in lbs) : 143\n",
      "[61.68856232, 64.86370891]\n"
     ]
    }
   ],
   "source": [
    "num_students = int(input(\"Enter Number of Students : \"))\n",
    "weights = []\n",
    "for i in range(num_students):\n",
    "    weights.append(int(input(\"Weight of Student {} (in lbs) : \".format(i+1))))\n",
    "\n",
    "mul_factor = 0.45359237     \n",
    "weights_kg = [i * mul_factor for i in weights ]\n",
    "\n",
    "print(weights_kg)"
   ]
  },
  {
   "cell_type": "markdown",
   "id": "665b6c3e",
   "metadata": {},
   "source": [
    "# Question 10"
   ]
  },
  {
   "cell_type": "code",
   "execution_count": 37,
   "id": "246b1e73",
   "metadata": {},
   "outputs": [],
   "source": [
    "feature = [1,2,3,6,6,7,10,11]\n",
    "classes = [0,0,1,1,1,0,0,0]"
   ]
  },
  {
   "cell_type": "code",
   "execution_count": 38,
   "id": "7b867280",
   "metadata": {},
   "outputs": [],
   "source": [
    "mid = len(feature)//2\n",
    "train_feature, train_label = feature[0:mid],classes[0:mid]\n",
    "test_feature, test_label = feature[mid:],classes[mid:]"
   ]
  },
  {
   "cell_type": "code",
   "execution_count": 39,
   "id": "56efc9f1",
   "metadata": {
    "scrolled": true
   },
   "outputs": [],
   "source": [
    "import numpy as np\n",
    "from sklearn.neighbors import KNeighborsClassifier\n",
    "from sklearn.metrics import confusion_matrix"
   ]
  },
  {
   "cell_type": "code",
   "execution_count": 40,
   "id": "b0fb9ca0",
   "metadata": {},
   "outputs": [],
   "source": [
    "model = KNeighborsClassifier(n_neighbors=3)\n",
    "\n",
    "train_feature = np.array(train_feature).reshape((-1,1))\n",
    "model.fit(train_feature,train_label)\n",
    "\n",
    "test_feature = np.array(test_feature).reshape((-1,1))\n",
    "predicted = model.predict(test_feature)"
   ]
  },
  {
   "cell_type": "code",
   "execution_count": 41,
   "id": "6dac3a66",
   "metadata": {},
   "outputs": [
    {
     "name": "stdout",
     "output_type": "stream",
     "text": [
      "Confusion Matrix : \n",
      " [[0 0]\n",
      " [3 1]]\n"
     ]
    }
   ],
   "source": [
    "print(\"Confusion Matrix : \\n\",confusion_matrix(predicted,test_label))\n",
    "cnf_matrix = confusion_matrix(predicted,test_label)\n",
    "\n",
    "TP = cnf_matrix[0][0]\n",
    "TN = cnf_matrix[1][1]\n",
    "\n",
    "FP = cnf_matrix[0][1]\n",
    "FN = cnf_matrix[1][0]\n",
    "\n"
   ]
  },
  {
   "cell_type": "code",
   "execution_count": 42,
   "id": "da19f88b",
   "metadata": {},
   "outputs": [
    {
     "name": "stdout",
     "output_type": "stream",
     "text": [
      "Accuray :  0.25\n",
      "Sensitivity :  0.0\n",
      "Specificity :  1.0\n"
     ]
    }
   ],
   "source": [
    "accuracy = (TP + TN)/(TP+TN+FP+FN)\n",
    "print(\"Accuray : \",accuracy) \n",
    "\n",
    "sensitivity = TP/(TP + FN)\n",
    "print(\"Sensitivity : \",sensitivity) \n",
    "\n",
    "Specificity = TN/(TN+FP)\n",
    "print(\"Specificity : \",Specificity) "
   ]
  },
  {
   "cell_type": "code",
   "execution_count": null,
   "id": "befe6f92",
   "metadata": {},
   "outputs": [],
   "source": []
  }
 ],
 "metadata": {
  "kernelspec": {
   "display_name": "Python 3 (ipykernel)",
   "language": "python",
   "name": "python3"
  },
  "language_info": {
   "codemirror_mode": {
    "name": "ipython",
    "version": 3
   },
   "file_extension": ".py",
   "mimetype": "text/x-python",
   "name": "python",
   "nbconvert_exporter": "python",
   "pygments_lexer": "ipython3",
   "version": "3.9.12"
  }
 },
 "nbformat": 4,
 "nbformat_minor": 5
}
